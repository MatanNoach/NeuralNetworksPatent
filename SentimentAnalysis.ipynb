{
  "cells": [
    {
      "cell_type": "markdown",
      "metadata": {
        "id": "view-in-github",
        "colab_type": "text"
      },
      "source": [
        "<a href=\"https://colab.research.google.com/github/MatanNoach/NeuralNetworksPatent/blob/master/SentimentAnalysis.ipynb\" target=\"_parent\"><img src=\"https://colab.research.google.com/assets/colab-badge.svg\" alt=\"Open In Colab\"/></a>"
      ]
    },
    {
      "cell_type": "code",
      "source": [
        "# A cell for running one-time commands (\"!pip install\" etc.)\n",
        "import nltk\n",
        "nltk.download(\"stopwords\")"
      ],
      "metadata": {
        "colab": {
          "base_uri": "https://localhost:8080/"
        },
        "id": "5jl7YRh-NvFV",
        "outputId": "59ba113d-d6e1-454f-c660-f24e87915354"
      },
      "id": "5jl7YRh-NvFV",
      "execution_count": null,
      "outputs": [
        {
          "output_type": "stream",
          "name": "stdout",
          "text": [
            "[nltk_data] Downloading package stopwords to /root/nltk_data...\n",
            "[nltk_data]   Unzipping corpora/stopwords.zip.\n"
          ]
        },
        {
          "output_type": "execute_result",
          "data": {
            "text/plain": [
              "True"
            ]
          },
          "metadata": {},
          "execution_count": 2
        }
      ]
    },
    {
      "cell_type": "code",
      "execution_count": null,
      "id": "c2ad4898-0663-4a01-bbf9-50a31044668c",
      "metadata": {
        "id": "c2ad4898-0663-4a01-bbf9-50a31044668c"
      },
      "outputs": [],
      "source": [
        "import pandas as pd\n",
        "import numpy as np\n",
        "import re\n",
        "import collections\n",
        "import matplotlib.pyplot as plt\n",
        "from nltk.corpus import stopwords\n",
        "import nltk\n",
        "from keras import models\n",
        "from keras import layers\n",
        "from keras import regularizers\n",
        "\n",
        "from sklearn.model_selection import train_test_split"
      ]
    },
    {
      "cell_type": "code",
      "execution_count": null,
      "id": "973e794f-8d80-4842-881b-16568d4b9cb3",
      "metadata": {
        "id": "973e794f-8d80-4842-881b-16568d4b9cb3"
      },
      "outputs": [],
      "source": [
        "NB_WORDS = 10000  # Parameter indicating the number of words we'll put in the dictionary\n",
        "VAL_SIZE = 1000  # Size of the validation set\n",
        "NB_START_EPOCHS = 20  # Number of epochs we usually start to train with\n",
        "BATCH_SIZE = 512  # Size of the batches used in the mini-batch gradient descent"
      ]
    },
    {
      "cell_type": "markdown",
      "source": [
        "# Pre Processing"
      ],
      "metadata": {
        "id": "FLugqXmA3DHn"
      },
      "id": "FLugqXmA3DHn"
    },
    {
      "cell_type": "code",
      "source": [
        "# Packages for data preparation\n",
        "from nltk.corpus import stopwords\n",
        "from keras.preprocessing.text import Tokenizer\n",
        "from keras.utils.np_utils import to_categorical\n",
        "from sklearn.preprocessing import LabelEncoder\n",
        "\n",
        "def remove_stopwords(input_text):\n",
        "    stopwords_list = stopwords.words('english')\n",
        "    # Some words which might indicate a certain sentiment are kept via a whitelist\n",
        "    whitelist = [\"n't\", \"not\", \"no\"]\n",
        "    words = input_text.split()\n",
        "    clean_words = [word for word in words if (word not in stopwords_list or word in whitelist) and len(word) > 1]\n",
        "    return \" \".join(clean_words)\n",
        "\n",
        "\n",
        "def remove_mentions(input_text):\n",
        "    return re.sub(r'@\\w+', '', input_text)\n",
        "\n",
        "def apply_token(X_train,X_test,num_words):\n",
        "    tk = Tokenizer(num_words=num_words,\n",
        "                   filters='!\"#$%&()*+,-./:;<=>?@[\\\\]^_`{|}~\\t\\n',\n",
        "                   lower=True,\n",
        "                   split=\" \")\n",
        "    tk.fit_on_texts(X_train)\n",
        "\n",
        "    print('Fitted tokenizer on {} documents'.format(tk.document_count))\n",
        "    print('{} words in dictionary'.format(tk.num_words))\n",
        "    print('Top 5 most common words are:', collections.Counter(tk.word_counts).most_common(5))\n",
        "    \n",
        "    X_train_seq = tk.texts_to_sequences(X_train)\n",
        "    X_test_seq = tk.texts_to_sequences(X_test)\n",
        "\n",
        "    print('\"{}\" is converted into {}'.format(X_train[0], X_train_seq[0]))\n",
        "    return X_train_seq, X_test_seq\n",
        "\n",
        "def one_hot_seq(seqs, nb_features):\n",
        "    ohs = np.zeros((len(seqs), nb_features))\n",
        "    for i, s in enumerate(seqs):\n",
        "        ohs[i, s] = 1.\n",
        "    return ohs\n",
        "\n",
        "def classes_to_numbers(y_train,y_test):\n",
        "    le = LabelEncoder()\n",
        "    y_train_le = le.fit_transform(y_train)\n",
        "    y_test_le = le.transform(y_test)\n",
        "    y_train_oh = to_categorical(y_train_le)\n",
        "    y_test_oh = to_categorical(y_test_le)\n",
        "\n",
        "    print('\"{}\" is converted into {}'.format(y_train[0], y_train_le[0]))\n",
        "    print('\"{}\" is converted into {}'.format(y_train_le[0], y_train_oh[0]))\n",
        "    return y_train_oh, y_test_oh"
      ],
      "metadata": {
        "id": "TAsOxmp62xGZ"
      },
      "id": "TAsOxmp62xGZ",
      "execution_count": null,
      "outputs": []
    },
    {
      "cell_type": "code",
      "source": [
        "# A function that balances the data to 50% negative and 50% positive\n",
        "def balance_data():\n",
        "  df = pd.read_csv('/content/drive/MyDrive/Patent/Tweets.csv') # Load the data\n",
        "  # Get only the negative and positive data\n",
        "  negative_df = df.loc[df['airline_sentiment']==\"negative\"]\n",
        "  positive_df = df.loc[df['airline_sentiment']==\"positive\"]\n",
        "  # Get negative rows as the number of positive rows\n",
        "  negative_df = negative_df[0:len(positive_df.index)]\n",
        "  # Combine both rows\n",
        "  df = pd.concat([negative_df,positive_df])\n",
        "  print(len(df.index))\n",
        "  # Save to csv without the indexes\n",
        "  df.to_csv('/content/drive/MyDrive/Patent/BalancedTweets.csv',index=False)\n",
        "\n",
        "# balance_data()"
      ],
      "metadata": {
        "id": "HPR8yzdOReOv"
      },
      "id": "HPR8yzdOReOv",
      "execution_count": null,
      "outputs": []
    },
    {
      "cell_type": "markdown",
      "id": "2382e071-4c58-490c-b41d-1584b829e1e2",
      "metadata": {
        "id": "2382e071-4c58-490c-b41d-1584b829e1e2"
      },
      "source": [
        "# Data Preparation"
      ]
    },
    {
      "cell_type": "code",
      "execution_count": 87,
      "id": "22a503a3-f375-4617-98a7-95af57d30db9",
      "metadata": {
        "id": "22a503a3-f375-4617-98a7-95af57d30db9",
        "outputId": "ac3bec43-7206-4b92-d56c-e7705e6dfb64",
        "colab": {
          "base_uri": "https://localhost:8080/",
          "height": 206
        }
      },
      "outputs": [
        {
          "output_type": "execute_result",
          "data": {
            "text/plain": [
              "                                                   text airline_sentiment\n",
              "2658   2/20 Denver AP, gate B91 (destination Santa F...          positive\n",
              "3852     loving Capt Joe flight BOS SFO #633. This fun!          positive\n",
              "3506   Glad finally resolved too. Too bad can't get ...          positive\n",
              "3400      Southwest definitely favorite airline fly! :D          positive\n",
              "131    Applied Status Match Feb 1. Got confirmation ...          negative"
            ],
            "text/html": [
              "\n",
              "  <div id=\"df-15ec85c6-3619-4f48-aa08-a4e7017608c6\">\n",
              "    <div class=\"colab-df-container\">\n",
              "      <div>\n",
              "<style scoped>\n",
              "    .dataframe tbody tr th:only-of-type {\n",
              "        vertical-align: middle;\n",
              "    }\n",
              "\n",
              "    .dataframe tbody tr th {\n",
              "        vertical-align: top;\n",
              "    }\n",
              "\n",
              "    .dataframe thead th {\n",
              "        text-align: right;\n",
              "    }\n",
              "</style>\n",
              "<table border=\"1\" class=\"dataframe\">\n",
              "  <thead>\n",
              "    <tr style=\"text-align: right;\">\n",
              "      <th></th>\n",
              "      <th>text</th>\n",
              "      <th>airline_sentiment</th>\n",
              "    </tr>\n",
              "  </thead>\n",
              "  <tbody>\n",
              "    <tr>\n",
              "      <th>2658</th>\n",
              "      <td>2/20 Denver AP, gate B91 (destination Santa F...</td>\n",
              "      <td>positive</td>\n",
              "    </tr>\n",
              "    <tr>\n",
              "      <th>3852</th>\n",
              "      <td>loving Capt Joe flight BOS SFO #633. This fun!</td>\n",
              "      <td>positive</td>\n",
              "    </tr>\n",
              "    <tr>\n",
              "      <th>3506</th>\n",
              "      <td>Glad finally resolved too. Too bad can't get ...</td>\n",
              "      <td>positive</td>\n",
              "    </tr>\n",
              "    <tr>\n",
              "      <th>3400</th>\n",
              "      <td>Southwest definitely favorite airline fly! :D</td>\n",
              "      <td>positive</td>\n",
              "    </tr>\n",
              "    <tr>\n",
              "      <th>131</th>\n",
              "      <td>Applied Status Match Feb 1. Got confirmation ...</td>\n",
              "      <td>negative</td>\n",
              "    </tr>\n",
              "  </tbody>\n",
              "</table>\n",
              "</div>\n",
              "      <button class=\"colab-df-convert\" onclick=\"convertToInteractive('df-15ec85c6-3619-4f48-aa08-a4e7017608c6')\"\n",
              "              title=\"Convert this dataframe to an interactive table.\"\n",
              "              style=\"display:none;\">\n",
              "        \n",
              "  <svg xmlns=\"http://www.w3.org/2000/svg\" height=\"24px\"viewBox=\"0 0 24 24\"\n",
              "       width=\"24px\">\n",
              "    <path d=\"M0 0h24v24H0V0z\" fill=\"none\"/>\n",
              "    <path d=\"M18.56 5.44l.94 2.06.94-2.06 2.06-.94-2.06-.94-.94-2.06-.94 2.06-2.06.94zm-11 1L8.5 8.5l.94-2.06 2.06-.94-2.06-.94L8.5 2.5l-.94 2.06-2.06.94zm10 10l.94 2.06.94-2.06 2.06-.94-2.06-.94-.94-2.06-.94 2.06-2.06.94z\"/><path d=\"M17.41 7.96l-1.37-1.37c-.4-.4-.92-.59-1.43-.59-.52 0-1.04.2-1.43.59L10.3 9.45l-7.72 7.72c-.78.78-.78 2.05 0 2.83L4 21.41c.39.39.9.59 1.41.59.51 0 1.02-.2 1.41-.59l7.78-7.78 2.81-2.81c.8-.78.8-2.07 0-2.86zM5.41 20L4 18.59l7.72-7.72 1.47 1.35L5.41 20z\"/>\n",
              "  </svg>\n",
              "      </button>\n",
              "      \n",
              "  <style>\n",
              "    .colab-df-container {\n",
              "      display:flex;\n",
              "      flex-wrap:wrap;\n",
              "      gap: 12px;\n",
              "    }\n",
              "\n",
              "    .colab-df-convert {\n",
              "      background-color: #E8F0FE;\n",
              "      border: none;\n",
              "      border-radius: 50%;\n",
              "      cursor: pointer;\n",
              "      display: none;\n",
              "      fill: #1967D2;\n",
              "      height: 32px;\n",
              "      padding: 0 0 0 0;\n",
              "      width: 32px;\n",
              "    }\n",
              "\n",
              "    .colab-df-convert:hover {\n",
              "      background-color: #E2EBFA;\n",
              "      box-shadow: 0px 1px 2px rgba(60, 64, 67, 0.3), 0px 1px 3px 1px rgba(60, 64, 67, 0.15);\n",
              "      fill: #174EA6;\n",
              "    }\n",
              "\n",
              "    [theme=dark] .colab-df-convert {\n",
              "      background-color: #3B4455;\n",
              "      fill: #D2E3FC;\n",
              "    }\n",
              "\n",
              "    [theme=dark] .colab-df-convert:hover {\n",
              "      background-color: #434B5C;\n",
              "      box-shadow: 0px 1px 3px 1px rgba(0, 0, 0, 0.15);\n",
              "      filter: drop-shadow(0px 1px 2px rgba(0, 0, 0, 0.3));\n",
              "      fill: #FFFFFF;\n",
              "    }\n",
              "  </style>\n",
              "\n",
              "      <script>\n",
              "        const buttonEl =\n",
              "          document.querySelector('#df-15ec85c6-3619-4f48-aa08-a4e7017608c6 button.colab-df-convert');\n",
              "        buttonEl.style.display =\n",
              "          google.colab.kernel.accessAllowed ? 'block' : 'none';\n",
              "\n",
              "        async function convertToInteractive(key) {\n",
              "          const element = document.querySelector('#df-15ec85c6-3619-4f48-aa08-a4e7017608c6');\n",
              "          const dataTable =\n",
              "            await google.colab.kernel.invokeFunction('convertToInteractive',\n",
              "                                                     [key], {});\n",
              "          if (!dataTable) return;\n",
              "\n",
              "          const docLinkHtml = 'Like what you see? Visit the ' +\n",
              "            '<a target=\"_blank\" href=https://colab.research.google.com/notebooks/data_table.ipynb>data table notebook</a>'\n",
              "            + ' to learn more about interactive tables.';\n",
              "          element.innerHTML = '';\n",
              "          dataTable['output_type'] = 'display_data';\n",
              "          await google.colab.output.renderOutput(dataTable, element);\n",
              "          const docLink = document.createElement('div');\n",
              "          docLink.innerHTML = docLinkHtml;\n",
              "          element.appendChild(docLink);\n",
              "        }\n",
              "      </script>\n",
              "    </div>\n",
              "  </div>\n",
              "  "
            ]
          },
          "metadata": {},
          "execution_count": 87
        }
      ],
      "source": [
        "df = pd.read_csv('/content/drive/MyDrive/Patent/BalancedTweets.csv') # Load the data\n",
        "df = df.reindex(np.random.permutation(df.index)) # Shuffle the data\n",
        "df = df[['text', 'airline_sentiment']] # Extract only relevant columns\n",
        "\n",
        "df.text = df.text.apply(remove_stopwords).apply(remove_mentions) # Apply preprocessing\n",
        "df.head()"
      ]
    },
    {
      "cell_type": "code",
      "execution_count": null,
      "id": "18b291a6-8636-4c74-8f6f-97fd3a59604c",
      "metadata": {
        "id": "18b291a6-8636-4c74-8f6f-97fd3a59604c",
        "outputId": "fb5df270-a48b-4d97-af92-0c7af09bfc0b",
        "colab": {
          "base_uri": "https://localhost:8080/"
        }
      },
      "outputs": [
        {
          "output_type": "stream",
          "name": "stdout",
          "text": [
            "# Train data samples: 4253\n",
            "# Test data samples: 473\n"
          ]
        }
      ],
      "source": [
        "# Split to train and test data\n",
        "X_train, X_test, y_train, y_test = train_test_split(df.text, df.airline_sentiment, test_size=0.1, random_state=37)\n",
        "print('# Train data samples:', X_train.shape[0])\n",
        "print('# Test data samples:', X_test.shape[0])\n",
        "assert X_train.shape[0] == y_train.shape[0]\n",
        "assert X_test.shape[0] == y_test.shape[0]"
      ]
    },
    {
      "cell_type": "code",
      "execution_count": null,
      "id": "2fd09556-c882-4e3a-bf8d-c2c034011e0e",
      "metadata": {
        "id": "2fd09556-c882-4e3a-bf8d-c2c034011e0e",
        "outputId": "c9a55dd8-1030-4267-b2d3-8b4f27d2c49f",
        "colab": {
          "base_uri": "https://localhost:8080/"
        }
      },
      "outputs": [
        {
          "output_type": "stream",
          "name": "stdout",
          "text": [
            "Fitted tokenizer on 4253 documents\n",
            "10000 words in dictionary\n",
            "Top 5 most common words are: [('flight', 978), ('thanks', 622), ('you', 431), ('thank', 430), ('not', 397)]\n",
            "\" really aggressive blast obnoxious \"entertainment\" guests' faces &amp; little recourse\" is converted into [424, 117, 1182, 34, 14, 43, 8, 1627, 2]\n",
            "\"[424, 117, 1182, 34, 14, 43, 8, 1627, 2]\" is converted into [0. 0. 1. ... 0. 0. 0.]\n",
            "For this example we have 9.0 features with a value of 1.\n"
          ]
        }
      ],
      "source": [
        "# Transform x data to one hot vector\n",
        "X_train_seq, X_test_seq = apply_token(X_train,X_test,NB_WORDS)\n",
        "X_train_oh = one_hot_seq(X_train_seq,NB_WORDS)\n",
        "X_test_oh = one_hot_seq(X_test_seq,NB_WORDS)\n",
        "\n",
        "print('\"{}\" is converted into {}'.format(X_train_seq[0], X_train_oh[0]))\n",
        "print('For this example we have {} features with a value of 1.'.format(X_train_oh[0].sum()))"
      ]
    },
    {
      "cell_type": "code",
      "execution_count": null,
      "id": "72274c4a-1d1f-4e13-be69-802c9114585d",
      "metadata": {
        "id": "72274c4a-1d1f-4e13-be69-802c9114585d",
        "outputId": "9e10a48e-fb8c-426f-eaf1-9bff8cb322ce",
        "colab": {
          "base_uri": "https://localhost:8080/"
        }
      },
      "outputs": [
        {
          "output_type": "stream",
          "name": "stdout",
          "text": [
            "\"negative\" is converted into 1\n",
            "\"1\" is converted into [0. 1.]\n"
          ]
        }
      ],
      "source": [
        "# Transform yo data to one hot vector\n",
        "y_train_oh, y_test_oh = classes_to_numbers(y_train,y_test)"
      ]
    },
    {
      "cell_type": "code",
      "execution_count": null,
      "id": "eead80ae-1791-4ede-b763-d34f31a1764c",
      "metadata": {
        "id": "eead80ae-1791-4ede-b763-d34f31a1764c",
        "outputId": "5490ec94-c477-4d4b-f750-a25231793dae",
        "colab": {
          "base_uri": "https://localhost:8080/"
        }
      },
      "outputs": [
        {
          "output_type": "stream",
          "name": "stdout",
          "text": [
            "Shape of validation set: (426, 10000)\n"
          ]
        }
      ],
      "source": [
        "# Split to validation sets\n",
        "X_train, X_valid, y_train, y_valid = train_test_split(X_train_oh, y_train_oh, test_size=0.1, random_state=37)\n",
        "\n",
        "assert X_valid.shape[0] == y_valid.shape[0]\n",
        "assert X_train.shape[0] == y_train.shape[0]\n",
        "\n",
        "print('Shape of validation set:',X_valid.shape)"
      ]
    },
    {
      "cell_type": "markdown",
      "id": "2c390359-ba53-428e-9a90-1ca957aaca60",
      "metadata": {
        "id": "2c390359-ba53-428e-9a90-1ca957aaca60"
      },
      "source": [
        "# The Model"
      ]
    },
    {
      "cell_type": "code",
      "execution_count": null,
      "id": "cbd1ad2c",
      "metadata": {
        "id": "cbd1ad2c"
      },
      "outputs": [],
      "source": [
        "epochs = 15\n",
        "\n",
        "def plot_metric(result, metric_name):\n",
        "    metric = result.history[metric_name]\n",
        "    val_metric = result.history['val_' + metric_name]\n",
        "\n",
        "    e = range(1, epochs + 1)\n",
        "    plt.title(metric_name)\n",
        "    plt.plot(e, metric, 'bo', label='Train ' + metric_name)\n",
        "    plt.plot(e, val_metric, 'b', label='Validation ' + metric_name)\n",
        "    plt.legend()\n",
        "    plt.show()\n",
        "\n",
        "def train_model(model):\n",
        "    model.compile(optimizer='adam'\n",
        "              , loss='categorical_crossentropy'\n",
        "              , metrics=['accuracy'])\n",
        "    \n",
        "    result = model.fit(X_train\n",
        "              , y_train\n",
        "              , epochs=epochs\n",
        "              , batch_size=BATCH_SIZE\n",
        "              , validation_data=(X_valid,y_valid)\n",
        "              , verbose=0)\n",
        "    return result\n",
        "def evaluate(model):\n",
        "    results = model.evaluate(X_test_oh, y_test_oh)\n",
        "    print('/n')\n",
        "    print('Test accuracy of model: {0:.2f}%'.format(results[1]*100))"
      ]
    },
    {
      "cell_type": "code",
      "execution_count": null,
      "id": "fdd5a8cf",
      "metadata": {
        "scrolled": false,
        "id": "fdd5a8cf",
        "outputId": "1dc054ec-ef1b-4aff-ac11-8591b28f1c3e",
        "colab": {
          "base_uri": "https://localhost:8080/"
        }
      },
      "outputs": [
        {
          "output_type": "stream",
          "name": "stdout",
          "text": [
            "Model: \"sequential_4\"\n",
            "_________________________________________________________________\n",
            " Layer (type)                Output Shape              Param #   \n",
            "=================================================================\n",
            " dense_16 (Dense)            (None, 64)                640064    \n",
            "                                                                 \n",
            " dropout_8 (Dropout)         (None, 64)                0         \n",
            "                                                                 \n",
            " dense_17 (Dense)            (None, 32)                2080      \n",
            "                                                                 \n",
            " dropout_9 (Dropout)         (None, 32)                0         \n",
            "                                                                 \n",
            " dense_18 (Dense)            (None, 16)                528       \n",
            "                                                                 \n",
            " dense_19 (Dense)            (None, 2)                 34        \n",
            "                                                                 \n",
            "=================================================================\n",
            "Total params: 642,706\n",
            "Trainable params: 642,706\n",
            "Non-trainable params: 0\n",
            "_________________________________________________________________\n"
          ]
        }
      ],
      "source": [
        "model = models.Sequential()\n",
        "model.add(layers.Dense(64, activation='relu', input_shape=(NB_WORDS,)))\n",
        "model.add(layers.Dropout(0.7))\n",
        "model.add(layers.Dense(32, activation='relu'))\n",
        "model.add(layers.Dropout(0.7))\n",
        "model.add(layers.Dense(16, activation='relu'))\n",
        "model.add(layers.Dense(2, activation='sigmoid'))\n",
        "model.summary()"
      ]
    },
    {
      "cell_type": "code",
      "execution_count": null,
      "id": "8601d28f",
      "metadata": {
        "scrolled": false,
        "id": "8601d28f",
        "outputId": "8266e1eb-b6a1-47ad-cfec-429357c2131f",
        "colab": {
          "base_uri": "https://localhost:8080/",
          "height": 597
        }
      },
      "outputs": [
        {
          "output_type": "display_data",
          "data": {
            "text/plain": [
              "<Figure size 432x288 with 1 Axes>"
            ],
            "image/png": "[encoded data removed]"
          },
          "metadata": {
            "needs_background": "light"
          }
        },
        {
          "output_type": "display_data",
          "data": {
            "text/plain": [
              "<Figure size 432x288 with 1 Axes>"
            ],
            "image/png": "[encoded data removed]"
          },
          "metadata": {
            "needs_background": "light"
          }
        },
        {
          "output_type": "stream",
          "name": "stdout",
          "text": [
            "15/15 [==============================] - 0s 3ms/step - loss: 0.3087 - accuracy: 0.8753\n",
            "/n\n",
            "Test accuracy of model: 87.53%\n"
          ]
        }
      ],
      "source": [
        "result = train_model(model)\n",
        "plot_metric(result, 'loss')\n",
        "plot_metric(result, 'accuracy')\n",
        "evaluate(model)"
      ]
    },
    {
      "cell_type": "code",
      "execution_count": null,
      "id": "4abeb931",
      "metadata": {
        "id": "4abeb931"
      },
      "outputs": [],
      "source": [
        ""
      ]
    },
    {
      "cell_type": "code",
      "execution_count": null,
      "id": "e02822da",
      "metadata": {
        "id": "e02822da"
      },
      "outputs": [],
      "source": [
        ""
      ]
    }
  ],
  "metadata": {
    "kernelspec": {
      "display_name": "Python 3 (ipykernel)",
      "language": "python",
      "name": "python3"
    },
    "language_info": {
      "codemirror_mode": {
        "name": "ipython",
        "version": 3
      },
      "file_extension": ".py",
      "mimetype": "text/x-python",
      "name": "python",
      "nbconvert_exporter": "python",
      "pygments_lexer": "ipython3",
      "version": "3.9.8"
    },
    "colab": {
      "name": "SentimentAnalysis.ipynb",
      "provenance": [],
      "include_colab_link": true
    }
  },
  "nbformat": 4,
  "nbformat_minor": 5
}